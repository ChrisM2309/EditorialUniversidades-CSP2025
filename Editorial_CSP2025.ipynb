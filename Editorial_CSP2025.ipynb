{
  "cells": [
    {
      "cell_type": "markdown",
      "metadata": {
        "id": "view-in-github",
        "colab_type": "text"
      },
      "source": [
        "<a href=\"https://colab.research.google.com/github/ChrisM2309/EditorialUniversidades-CSP2025/blob/main/Editorial_CSP2025.ipynb\" target=\"_parent\"><img src=\"https://colab.research.google.com/assets/colab-badge.svg\" alt=\"Open In Colab\"/></a>"
      ]
    },
    {
      "cell_type": "markdown",
      "source": [],
      "metadata": {
        "id": "UtSLq8vGeRwe"
      },
      "id": "UtSLq8vGeRwe"
    },
    {
      "cell_type": "markdown",
      "id": "44f5bef0",
      "metadata": {
        "id": "44f5bef0"
      },
      "source": [
        "# Editorial Técnica y Resolución de Problemas de la Categoría Universitaria — Copa Salvadoreña de Programación 2025 (C3)"
      ]
    },
    {
      "cell_type": "markdown",
      "id": "fff644f4",
      "metadata": {
        "id": "fff644f4"
      },
      "source": [
        "## FASE VIRTUAL\n"
      ]
    },
    {
      "cell_type": "markdown",
      "source": [
        "### Problema 1: Encontrando a los Espías Deceptinant\n"
      ],
      "metadata": {
        "id": "T7mCUOleecFH"
      },
      "id": "T7mCUOleecFH"
    },
    {
      "cell_type": "code",
      "source": [
        "# CODIGO DE SOLUCION\n",
        "\n",
        "N = int(input())\n",
        "A = list(map(int, input().split()))\n",
        "\n",
        "prefix = [0] * (N + 1)\n",
        "for i in range(1, N + 1):\n",
        "    prefix[i] = prefix[i - 1] + A[i - 1]\n",
        "\n",
        "Q = int(input())\n",
        "\n",
        "results = []\n",
        "\n",
        "for _ in range(Q):\n",
        "    L, R = map(int, input().split())\n",
        "    suma = prefix[R] - prefix[L - 1]\n",
        "    results.append('1' if suma >= 0 else '0')\n",
        "\n",
        "print('\\n'.join(results))\n"
      ],
      "metadata": {
        "id": "CzMkA8BHego3",
        "colab": {
          "base_uri": "https://localhost:8080/"
        },
        "outputId": "df627cb1-9f0c-49bb-9710-ed7a06d15e48"
      },
      "id": "CzMkA8BHego3",
      "execution_count": 1,
      "outputs": [
        {
          "output_type": "stream",
          "name": "stdout",
          "text": [
            "5\n",
            "1 -2 3 -4 5\n",
            "3\n",
            "1 5 \n",
            "2 2\n",
            "3 4\n",
            "1\n",
            "0\n",
            "0\n"
          ]
        }
      ]
    },
    {
      "cell_type": "code",
      "execution_count": null,
      "id": "cf5638e1",
      "metadata": {
        "colab": {
          "base_uri": "https://localhost:8080/",
          "height": 106
        },
        "id": "cf5638e1",
        "outputId": "b7a47d20-b0c9-4991-a29a-59aea894f1f1"
      },
      "outputs": [
        {
          "output_type": "error",
          "ename": "SyntaxError",
          "evalue": "invalid syntax (ipython-input-1-4179618775.py, line 2)",
          "traceback": [
            "\u001b[0;36m  File \u001b[0;32m\"/tmp/ipython-input-1-4179618775.py\"\u001b[0;36m, line \u001b[0;32m2\u001b[0m\n\u001b[0;31m    1 -2 3 -4 5\u001b[0m\n\u001b[0m         ^\u001b[0m\n\u001b[0;31mSyntaxError\u001b[0m\u001b[0;31m:\u001b[0m invalid syntax\n"
          ]
        }
      ],
      "source": [
        "'''\n",
        "CASO DE PRUEBA 1\n",
        "\n",
        "ENTRADA:\n",
        "5\n",
        "1 -2 3 -4 5\n",
        "3\n",
        "1 5\n",
        "2 2\n",
        "3 4\n",
        "\n",
        "SALIDA:\n",
        "1\n",
        "0\n",
        "0\n",
        "'''"
      ]
    },
    {
      "cell_type": "markdown",
      "id": "221eae05",
      "metadata": {
        "id": "221eae05"
      },
      "source": [
        "### Problema 2: El Adabraniumth Utilizado"
      ]
    },
    {
      "cell_type": "code",
      "execution_count": null,
      "id": "792b2b02",
      "metadata": {
        "id": "792b2b02"
      },
      "outputs": [],
      "source": [
        "'''\n",
        "CASO DE PRUEBA 1\n",
        "\n",
        "ENTRADA:\n",
        "3 4\n",
        "1 1 3 3\n",
        "9 9 9 3\n",
        "1 1 6 6\n",
        "\n",
        "SALIDA:\n",
        "4\n",
        "\n",
        "'''"
      ]
    },
    {
      "cell_type": "markdown",
      "id": "908d99c1",
      "metadata": {
        "id": "908d99c1"
      },
      "source": [
        "### Problema 3: ¿Quien Hizo Esta Diablura?"
      ]
    },
    {
      "cell_type": "code",
      "execution_count": null,
      "id": "91d795d1",
      "metadata": {
        "id": "91d795d1"
      },
      "outputs": [],
      "source": [
        "6 5\n",
        "1 2\n",
        "2 3\n",
        "3 4\n",
        "5 6\n",
        "1 6"
      ]
    },
    {
      "cell_type": "markdown",
      "id": "b8285a41",
      "metadata": {
        "id": "b8285a41"
      },
      "source": [
        "### Problema 4: Los Códigos de los Autovengadores"
      ]
    },
    {
      "cell_type": "code",
      "execution_count": null,
      "id": "7b00717f",
      "metadata": {
        "id": "7b00717f"
      },
      "outputs": [],
      "source": [
        "3\n",
        "aab"
      ]
    },
    {
      "cell_type": "markdown",
      "id": "3d409472",
      "metadata": {
        "id": "3d409472"
      },
      "source": [
        "### Problema 5: La Escuela Polanski para Estudiantes Programadores"
      ]
    },
    {
      "cell_type": "code",
      "execution_count": null,
      "id": "a5b4266b",
      "metadata": {
        "id": "a5b4266b"
      },
      "outputs": [],
      "source": [
        "3\n",
        "4 1\n",
        "2 1\n",
        "3 0"
      ]
    },
    {
      "cell_type": "markdown",
      "id": "873e8638",
      "metadata": {
        "id": "873e8638"
      },
      "source": [
        "### Problema 6: Buscando la Base Deceptinant 2"
      ]
    },
    {
      "cell_type": "code",
      "execution_count": null,
      "id": "88d080ca",
      "metadata": {
        "id": "88d080ca"
      },
      "outputs": [],
      "source": [
        "3 3\n",
        "1 1 2\n",
        "3 3 2\n",
        "1 3 3"
      ]
    }
  ],
  "metadata": {
    "kernelspec": {
      "display_name": "Python 3",
      "language": "python",
      "name": "python3"
    },
    "language_info": {
      "name": "python",
      "version": "3.12.7"
    },
    "colab": {
      "provenance": [],
      "collapsed_sections": [
        "908d99c1"
      ],
      "include_colab_link": true
    }
  },
  "nbformat": 4,
  "nbformat_minor": 5
}