{
  "cells": [
    {
      "cell_type": "markdown",
      "metadata": {
        "id": "view-in-github",
        "colab_type": "text"
      },
      "source": [
        "<a href=\"https://colab.research.google.com/github/ChrisM2309/EditorialUniversidades-CSP2025/blob/main/Editorial_CSP2025.ipynb\" target=\"_parent\"><img src=\"https://colab.research.google.com/assets/colab-badge.svg\" alt=\"Open In Colab\"/></a>"
      ]
    },
    {
      "cell_type": "markdown",
      "id": "44f5bef0",
      "metadata": {
        "id": "44f5bef0"
      },
      "source": [
        "# Editorial Técnica y Resolución de Problemas de la Categoría Universitaria — Copa Salvadoreña de Programación 2025 (C3)\n",
        "\n",
        "---\n",
        "\n",
        "IMPORTANTE: En caso de problemas con el manejo de inputs o errores como `ValueError: invalid literal for int() with base 10`. La solucion es reiniciar la sesion completamente, desde el menu de la parte superior. Al hacer esto, los input se reinician y se puede continuar con la ejecucion del codigo.\n",
        "\n",
        "---\n",
        "\n",
        "**Equipo:**\n",
        "\n",
        "1. **Diego Francisco Arévalo Miranda**  \n",
        "   20245123@esen.edu.sv  \n",
        "\n",
        "2. **Roberto Carlos Morán Gómez**  \n",
        "   20245258@esen.edu.sv  \n",
        "\n",
        "3. **Christopher Alexander Marroquín Figueroa**  \n",
        "   20245332@esen.edu.sv  \n",
        "\n",
        "4. **Roberto Josué Polanco Hernández**  \n",
        "   20245367@esen.edu.sv  \n",
        "\n",
        "5. **Óscar José Pleités Lemus**  \n",
        "   20245452@esen.edu.sv  \n",
        "\n",
        "*Escuela Superior de Economía y Negocios (ESEN)*  \n",
        "*Competitive Coding Club (C3)*  \n"
      ]
    },
    {
      "cell_type": "markdown",
      "id": "fff644f4",
      "metadata": {
        "id": "fff644f4"
      },
      "source": [
        "## FASE VIRTUAL\n"
      ]
    },
    {
      "cell_type": "markdown",
      "source": [
        "### Problema 1: Encontrando a los Espías Deceptinant\n",
        "\n",
        "**¿De qué trata?**\n",
        "\n",
        "Tienes una lista de enteros que representan la influencia (positiva o negativa) de agentes infiltrados. Quieres saber si ciertos sectores (subrangos de esa lista) están comprometidos o no.\n",
        "\n",
        "**¿Qué se da como entrada?**\n",
        "\n",
        "Un entero N: número de agentes.\n",
        "\n",
        "Una lista A de N enteros (pueden ser positivos o negativos).\n",
        "\n",
        "Un número Q de consultas. Cada consulta es un par (L, R) indicando el rango a analizar.\n",
        "\n",
        "**¿Qué se debe retornar?**\n",
        "\n",
        "Para cada consulta, imprime 1 si la suma del rango L a R es mayor o igual a cero (seguro), o 0 si es negativa (comprometido).\n",
        "\n",
        "**¿Cómo se resuelve?**\n",
        "\n",
        "Se usa un arreglo de suma acumulada (prefix sum) para calcular rápidamente la suma entre cualquier L y R sin volver a recorrer todo el rango."
      ],
      "metadata": {
        "id": "T7mCUOleecFH"
      },
      "id": "T7mCUOleecFH"
    },
    {
      "cell_type": "code",
      "execution_count": null,
      "id": "cf5638e1",
      "metadata": {
        "colab": {
          "base_uri": "https://localhost:8080/"
        },
        "id": "cf5638e1",
        "outputId": "2f43c202-1a02-4f4f-8536-81453766cb0d"
      },
      "outputs": [
        {
          "output_type": "stream",
          "name": "stdout",
          "text": [
            "10\n",
            "1 2 -3 4 -5 6 -7 8 -9 10\n",
            "5\n",
            "1 10\n",
            "1\n",
            "2 9\n",
            "0\n",
            "3 8\n",
            "1\n",
            "4 7\n",
            "0\n",
            "5 6\n",
            "1\n"
          ]
        }
      ],
      "source": [
        "# CODIGO DE SOLUCION\n",
        "def solve():\n",
        "    # Leer el número de agentes\n",
        "    n = int(input())\n",
        "    # Inicializar arreglo de suma acumulativa con tamaño suficiente\n",
        "    suma = [0] * (2 * 100005)\n",
        "\n",
        "    # Leer los valores de influencia de los agentes\n",
        "    values = list(map(int, input().split()))\n",
        "\n",
        "    # Calcular suma acumulativa\n",
        "    for i in range(1, n + 1):\n",
        "        suma[i] = suma[i - 1] + values[i - 1]\n",
        "\n",
        "    # Leer número de consultas\n",
        "    q = int(input())\n",
        "    # Procesar cada consulta\n",
        "    for _ in range(q):\n",
        "        # Leer rango L, R\n",
        "        l, r = map(int, input().split())\n",
        "        # Imprimir 1 si suma >= 0, 0 en otro caso\n",
        "        print(1 if suma[r] - suma[l - 1] >= 0 else 0)\n",
        "\n",
        "# Ejecutar una vez\n",
        "t = 1\n",
        "#t = int(input())\n",
        "for _ in range(t):\n",
        "    solve()"
      ]
    },
    {
      "cell_type": "code",
      "source": [
        "# CASOS DE PRUEBA\n",
        "'''\n",
        "CASO DE PRUEBA 1\n",
        "\n",
        "ENTRADA:\n",
        "5\n",
        "1 -2 3 -4 5\n",
        "3\n",
        "1 5\n",
        "2 2\n",
        "3 4\n",
        "\n",
        "SALIDA:\n",
        "1\n",
        "0\n",
        "0\n",
        "'''\n",
        "\n",
        "\"\"\"\n",
        "CASO DE PRUEBA 2\n",
        "ENTRADA:\n",
        "3\n",
        "0 0 0\n",
        "2\n",
        "1 3\n",
        "2 2\n",
        "SALIDA:\n",
        "1\n",
        "1\n",
        "\"\"\"\n",
        "\n",
        "\"\"\"\n",
        "CASO DE PRUEBA 3\n",
        "ENTRADA:\n",
        "10\n",
        "1 2 -3 4 -5 6 -7 8 -9 10\n",
        "5\n",
        "1 10\n",
        "2 9\n",
        "3 8\n",
        "4 7\n",
        "5 6\n",
        "SALIDA:\n",
        "1\n",
        "0\n",
        "1\n",
        "0\n",
        "1\n",
        "\"\"\"\n"
      ],
      "metadata": {
        "id": "CzMkA8BHego3"
      },
      "id": "CzMkA8BHego3",
      "execution_count": null,
      "outputs": []
    },
    {
      "cell_type": "markdown",
      "id": "221eae05",
      "metadata": {
        "id": "221eae05"
      },
      "source": [
        "### Problema 2: El Adabraniumth Utilizado\n",
        "\n",
        "**¿De qué trata?**\n",
        "\n",
        "Tienes una matriz de colores que representan placas metálicas. Cada color representa una placa diferente. Debes contar cuántas placas únicas se usaron.\n",
        "\n",
        "**¿Qué se da como entrada?**\n",
        "\n",
        "* Dos enteros `N`, `M`: dimensiones de la matriz.\n",
        "* Una matriz de `N` filas y `M` columnas con valores enteros (colores).\n",
        "\n",
        "**¿Qué se debe retornar?**\n",
        "\n",
        "* Un número entero: la cantidad de colores únicos (es decir, cuántas placas distintas hay).\n",
        "\n",
        "**¿Cómo se resuelve?**\n",
        "\n",
        "* Se recorren todas las celdas de la matriz y se guardan los colores en un `set`, que automáticamente elimina duplicados.\n"
      ]
    },
    {
      "cell_type": "code",
      "source": [
        "# CODIGO DE SOLUCION\n",
        "def solve():\n",
        "    # Leer dimensiones\n",
        "    n, m = map(int, input().split())\n",
        "    # Set para almacenar colores\n",
        "    colores = set()\n",
        "\n",
        "    # Leer cada fila\n",
        "    for i in range(n):\n",
        "        row = list(map(int, input().split()))\n",
        "        # Agregar cada color no cero al set\n",
        "        for x in row:\n",
        "            if x != 0:\n",
        "                colores.add(x)\n",
        "    # Imprimir la cantidad de colores\n",
        "    print(len(colores))\n",
        "\n",
        "# Ejectuar solucion\n",
        "t = 1\n",
        "for _ in range(t):\n",
        "    solve()\n"
      ],
      "metadata": {
        "colab": {
          "base_uri": "https://localhost:8080/"
        },
        "id": "R4spoq5bkZAS",
        "outputId": "425e5300-1bdc-4882-f97d-fa7970531e63"
      },
      "id": "R4spoq5bkZAS",
      "execution_count": null,
      "outputs": [
        {
          "output_type": "stream",
          "name": "stdout",
          "text": [
            "5 5\n",
            "1 2 3 4 5\n",
            "6 7 8 9 10\n",
            "11 12 13 14 15\n",
            "16 17 18 19 20\n",
            "21 22 23 24 25\n",
            "25\n"
          ]
        }
      ]
    },
    {
      "cell_type": "code",
      "execution_count": null,
      "id": "792b2b02",
      "metadata": {
        "id": "792b2b02"
      },
      "outputs": [],
      "source": [
        "'''\n",
        "CASO DE PRUEBA 1\n",
        "\n",
        "ENTRADA:\n",
        "3 4\n",
        "1 1 3 3\n",
        "9 9 9 3\n",
        "1 1 6 6\n",
        "\n",
        "SALIDA:\n",
        "4\n",
        "\n",
        "CASO DE PRUEBA 2\n",
        "ENTRADA:\n",
        "2 2\n",
        "0 0\n",
        "0 0\n",
        "SALIDA:\n",
        "0\n",
        "\n",
        "CASO DE PRUEBA 3\n",
        "ENTRADA:\n",
        "5 5\n",
        "1 2 3 4 5\n",
        "6 7 8 9 10\n",
        "11 12 13 14 15\n",
        "16 17 18 19 20\n",
        "21 22 23 24 25\n",
        "SALIDA:\n",
        "25\n",
        "\n",
        "'''"
      ]
    },
    {
      "cell_type": "markdown",
      "id": "908d99c1",
      "metadata": {
        "id": "908d99c1"
      },
      "source": [
        "### Problema 3: ¿Quien Hizo Esta Diablura?\n",
        "\n",
        "**¿De qué trata?**\n",
        "Se representa una red de personas conectadas por conversaciones. Una imagen escandalosa se filtra a través de la red. Debes calcular cuántas personas **como mínimo y máximo** pudieron enterarse del escándalo.\n",
        "\n",
        "**¿Qué se da como entrada?**\n",
        "\n",
        "* Dos enteros `N`, `M`: número de personas y cantidad de conexiones.\n",
        "* Luego `M` pares de enteros `(U, V)` representando que las personas `U` y `V` se comunican.\n",
        "\n",
        "**¿Qué se debe retornar?**\n",
        "\n",
        "* Dos líneas:\n",
        "\n",
        "  * Primero, el tamaño de la **componente más grande** (máximo número de personas que pudieron enterarse).\n",
        "  * Segundo, el tamaño de la **componente más pequeña** (mínimo número de personas que pudieron haberse enterado).\n",
        "\n",
        "**¿Cómo se resuelve?**\n",
        "\n",
        "* Se interpreta como un grafo no dirigido.\n",
        "* Se aplica **BFS o DFS** para contar los tamaños de cada componente conexa.\n"
      ]
    },
    {
      "cell_type": "code",
      "source": [
        "# CODIGO DE SOLUCION\n",
        "\n",
        "def dfs(nodo, grafo, visto):\n",
        "  global act\n",
        "  stack = [nodo]\n",
        "  while stack:\n",
        "    curr = stack.pop()\n",
        "    if curr in visto:\n",
        "        continue\n",
        "    visto.add(curr)\n",
        "    act += 1\n",
        "    for neighbor in grafo[curr]:\n",
        "      if neighbor not in visto:\n",
        "        stack.append(neighbor)\n",
        "\n",
        "def solve():\n",
        "  global act, maxi, mini\n",
        "  # Leer numero de personas y conexiones\n",
        "  n, m = map(int, input().split())\n",
        "  # Inicializar grafo con listas de adyacencia\n",
        "  grafo = [[] for _  in range(200005)]\n",
        "\n",
        "  # Set de visitados, variables para guardar maximo y minimo\n",
        "  visto = set()\n",
        "  maxi = 0\n",
        "  mini = float('inf')\n",
        "\n",
        "  # Construir grafo no dirigido\n",
        "  for _ in range(m):\n",
        "      u, v = map(int,\n",
        "          input().split())\n",
        "\n",
        "      grafo[u].append(v)\n",
        "      grafo[v].append(u)\n",
        "\n",
        "  # Recorrer buscando componentes conexos\n",
        "  for i in range(1, n + 1):\n",
        "      if i not in visto:\n",
        "          act = 0\n",
        "          dfs(i, grafo, visto)\n",
        "          # Act es el numero de elementos del componente actual\n",
        "          maxi = max(maxi, act)\n",
        "          mini = min(mini, act)\n",
        "\n",
        "  print(maxi)\n",
        "  print(mini)\n",
        "\n",
        "# Ejecutar solucion\n",
        "t = 1\n",
        "for _ in range(t):\n",
        "  solve()"
      ],
      "metadata": {
        "id": "KSMTicThlBdO",
        "colab": {
          "base_uri": "https://localhost:8080/"
        },
        "outputId": "82f098dc-c7ba-42e3-a182-d15138031817"
      },
      "id": "KSMTicThlBdO",
      "execution_count": null,
      "outputs": [
        {
          "output_type": "stream",
          "name": "stdout",
          "text": [
            "7 0\n",
            "1\n",
            "1\n"
          ]
        }
      ]
    },
    {
      "cell_type": "code",
      "execution_count": null,
      "id": "91d795d1",
      "metadata": {
        "id": "91d795d1"
      },
      "outputs": [],
      "source": [
        "\"\"\"\n",
        "CASO DE PRUEBA 1\n",
        "ENTRADA:\n",
        "6 5\n",
        "1 2\n",
        "2 3\n",
        "3 4\n",
        "4 5\n",
        "1 6\n",
        "SALIDA:\n",
        "6\n",
        "6\n",
        "\n",
        "CASO DE PRUEBA 2\n",
        "ENTRADA:\n",
        "5 3\n",
        "1 2\n",
        "3 4\n",
        "5 1\n",
        "SALIDA:\n",
        "3\n",
        "2\n",
        "\n",
        "\n",
        "CASO DE PRUEBA 3\n",
        "ENTRADA:\n",
        "7 0\n",
        "SALIDA:\n",
        "1\n",
        "1\n",
        "\"\"\""
      ]
    },
    {
      "cell_type": "markdown",
      "id": "b8285a41",
      "metadata": {
        "id": "b8285a41"
      },
      "source": [
        "### Problema 4: Los Códigos de los Autovengadores\n",
        "\n",
        "**¿De qué trata?**\n",
        "Te dan una cadena de `N` caracteres (que puede tener repetidos). Debes contar cuántas formas diferentes hay de reordenarla (permutaciones distintas).\n",
        "\n",
        "**¿Qué se da como entrada?**\n",
        "\n",
        "* Un entero `N`: longitud de la cadena.\n",
        "* Una cadena `S` de largo `N`.\n",
        "\n",
        "**¿Qué se debe retornar?**\n",
        "\n",
        "* Un número entero: cantidad de permutaciones distintas posibles, módulo `10⁹ + 7`.\n",
        "\n",
        "**¿Cómo se resuelve?**\n",
        "\n",
        "* Crear una tabla tipo Triángulo de Pascal para combinaciones `C(n, k)`.\n",
        "\n",
        "* Usar esa tabla para ir calculando combinaciones acumuladas considerando la cantidad de ocurrencias de cada letra.\n"
      ]
    },
    {
      "cell_type": "code",
      "execution_count": null,
      "id": "7b00717f",
      "metadata": {
        "id": "7b00717f",
        "colab": {
          "base_uri": "https://localhost:8080/"
        },
        "outputId": "a251958f-6cd8-44a7-aa66-a5761061d24e"
      },
      "outputs": [
        {
          "output_type": "stream",
          "name": "stdout",
          "text": [
            "4\n",
            "aabb\n",
            "6\n"
          ]
        }
      ],
      "source": [
        "# CODIGO DE SOLUCION\n",
        "\n",
        "import sys\n",
        "import io\n",
        "from collections import Counter\n",
        "sys.stdin = io.StringIO(\"\")\n",
        "\n",
        "\n",
        "MOD = 10**9 + 7\n",
        "\n",
        "n = int(input())\n",
        "p = input().strip()\n",
        "\n",
        "# Inicializar triángulo de Pascal para combinaciones\n",
        "pascal = [[0] * (n + 1) for _ in range(n + 1)]\n",
        "\n",
        "# Construir tabla de combinaciones\n",
        "for i in range(n + 1):\n",
        "    pascal[i][0] = 1\n",
        "\n",
        "for i in range(1, n + 1):\n",
        "    for j in range(1, i + 1):\n",
        "        pascal[i][j] = (pascal[i - 1][j] + pascal[i - 1][j - 1]) % MOD\n",
        "\n",
        "# Contar frecuencia de cada caracter\n",
        "hay = Counter(p)\n",
        "\n",
        "ans = 1\n",
        "for freq in hay.values():\n",
        "    ans = (ans * pascal[n][n - freq]) % MOD\n",
        "    n -= freq\n",
        "\n",
        "print(ans)"
      ]
    },
    {
      "cell_type": "code",
      "execution_count": null,
      "metadata": {
        "id": "gNoJt38RQ22A"
      },
      "outputs": [],
      "source": [
        "\"\"\"\n",
        "CASO DE PRUEBA 1\n",
        "ENTRADA:\n",
        "3\n",
        "aab\n",
        "SALIDA:\n",
        "3\n",
        "\n",
        "CASO DE PRUEBA 2\n",
        "ENTRADA:\n",
        "5\n",
        "abcd9\n",
        "SALIDA:\n",
        "120\n",
        "\n",
        "CASO DE PRUEBA 3\n",
        "ENTRADA:\n",
        "4\n",
        "aabb\n",
        "SALIDA:\n",
        "6\n",
        "\"\"\""
      ],
      "id": "gNoJt38RQ22A"
    },
    {
      "cell_type": "markdown",
      "id": "3d409472",
      "metadata": {
        "id": "3d409472"
      },
      "source": [
        "### Problema 5: La Escuela Polanski para Estudiantes Programadores\n",
        "\n",
        "**¿De qué trata?**\n",
        "\n",
        "Tienes `N` períodos de admisión. En cada uno se presentan `Aᵢ` estudiantes que están dispuestos a esperar hasta `Kᵢ` períodos. Tu objetivo es determinar **cuál es la mayor cantidad fija `X` de estudiantes que pueden ser admitidos por período**, de forma que:\n",
        "\n",
        "* Se admita **exactamente `X` estudiantes en cada período**.\n",
        "* Cada estudiante es admitido **dentro de su rango válido de espera**.\n",
        "\n",
        "\n",
        "**Entrada**\n",
        "\n",
        "* Un entero `N`: número de períodos.\n",
        "* Luego `N` líneas con dos enteros cada una: `Aᵢ` (postulantes en el período `i`) y `Kᵢ` (máximo número de períodos que puede esperar ese postulante).\n",
        "\n",
        "**Salida**\n",
        "\n",
        "* Un solo número entero: el **mayor valor posible de `X`** que se puede cumplir en todos los períodos.\n",
        "\n",
        "**¿Cómo se resuelve?**\n",
        "\n",
        "Se implementa una estrategia en dos partes:\n",
        "\n",
        "1. **Búsqueda binaria** sobre `X`:\n",
        "\n",
        "   * Se prueba si un valor `X` es factible.\n",
        "   * Si sí, se intenta un mayor valor; si no, uno menor.\n",
        "\n",
        "2. **Simulación eficiente de admisión** usando:\n",
        "\n",
        "   * Una **cola de prioridad (heap)** para priorizar a los estudiantes más urgentes (los que ya casi expiran).\n",
        "   * Se simula período por período, admitiendo exactamente `X` estudiantes.\n",
        "\n"
      ]
    },
    {
      "cell_type": "code",
      "source": [
        "# CODIGO DE SOLUCION\n",
        "\n",
        "# Importamos el módulo para usar colas de prioridad (heaps)\n",
        "import heapq\n",
        "\n",
        "def solve():\n",
        "    # Recibir valores\n",
        "    n = int(input())\n",
        "    values = []\n",
        "\n",
        "    # Leer los datos de cada período: A_i (postulantes) y K_i (períodos de espera)\n",
        "    for i in range(n):\n",
        "        a, k = map(int, input(). split())\n",
        "        # Agregar en forma (periodo limite, cantidad)\n",
        "        values.append((k + i, a))\n",
        "\n",
        "    # Funcion para comprobar si una solucion es valida\n",
        "    def check(limit):\n",
        "        pq = [] # Cola de proridad\n",
        "        period = 0 # Contador de periodos\n",
        "\n",
        "        for i in range(n):\n",
        "            # Eliminar estudiantes que ya no pueden esperar (periodo límite < periodo actual)\n",
        "            while pq and pq[0][0] < period:\n",
        "                heapq.heappop(pq)\n",
        "\n",
        "            # Avanzar al siguiente periodo\n",
        "            period += 1\n",
        "\n",
        "            # Agregar los nuevos estudiantes del período actual al heap\n",
        "            heapq.heappush(pq, values[i])\n",
        "\n",
        "            # Cantidad de estudiantes que se pueden admitir\n",
        "            aux = limit\n",
        "\n",
        "            # Admitir estudiantes mientras haya cupo\n",
        "            while pq and aux - pq[0][1] >= 0:\n",
        "                aux -= pq[0][1] #Reducir los cupos disponibles\n",
        "                heapq.heappop(pq) #Quitar estudiantes que fueron admitidos\n",
        "            if not pq:\n",
        "              # Si no hay estudiantes, pero si hay cupo\n",
        "                if aux != 0:\n",
        "                    return False # No se usaron todos los cupos\n",
        "            else:\n",
        "              # Si quedan estudiantes, pero no suficientes cupos. Actualizar cantidad\n",
        "                top = heapq.heappop(pq)\n",
        "\n",
        "                new_cost = top[1] - aux\n",
        "\n",
        "                heapq.heappush(pq, (top[0], new_cost))\n",
        "\n",
        "        return True # Si se pudieron admitir X estudiantes en los periodos\n",
        "\n",
        "    # Busqueda binaria para encontrar el mayor X posible\n",
        "    left, right = 0, int(1e9) + 5 # Limites\n",
        "    while left + 1 < right:\n",
        "        mid = (left + right) // 2\n",
        "        if check(mid): # Si mid es posible, usar lado derecho\n",
        "            left = mid\n",
        "        else: # Si no es posible, usar lado izquierdo\n",
        "            right = mid\n",
        "\n",
        "    # Verificar cual de los ultimos valores es correcto\n",
        "    print(right if check(right) else left)\n",
        "\n",
        "solve()"
      ],
      "metadata": {
        "colab": {
          "base_uri": "https://localhost:8080/"
        },
        "id": "fQeQOZNtUnPW",
        "outputId": "b43f5631-854d-4a71-9178-d05f24acd08b"
      },
      "id": "fQeQOZNtUnPW",
      "execution_count": null,
      "outputs": [
        {
          "output_type": "stream",
          "name": "stdout",
          "text": [
            "5\n",
            "5 2\n",
            "3 1\n",
            "4 0\n",
            "2 3\n",
            "1 4\n",
            "1\n"
          ]
        }
      ]
    },
    {
      "cell_type": "code",
      "execution_count": null,
      "id": "a5b4266b",
      "metadata": {
        "id": "a5b4266b",
        "colab": {
          "base_uri": "https://localhost:8080/",
          "height": 72
        },
        "outputId": "5f0cb77c-4499-4621-9788-63301c65c456"
      },
      "outputs": [
        {
          "output_type": "execute_result",
          "data": {
            "text/plain": [
              "' \\nCASO DE PRUEBA 1\\nENTRADA: \\n3\\n4 1\\n2 1\\n3 0\\nSALIDA: \\n3\\n\\nCASO DE PRUEBA 2\\nENTRADA: \\n4\\n2 0\\n2 0\\n2 0\\n10 0\\nSALIDA: \\n2\\n\\nCASO DE PRUEBA 3\\nENTRADA:\\n5\\n5 2\\n3 1\\n4 0\\n2 3\\n1 4\\nSALIDA:\\n3\\n'"
            ],
            "application/vnd.google.colaboratory.intrinsic+json": {
              "type": "string"
            }
          },
          "metadata": {},
          "execution_count": 13
        }
      ],
      "source": [
        "'''\n",
        "CASO DE PRUEBA 1\n",
        "ENTRADA:\n",
        "3\n",
        "4 1\n",
        "2 1\n",
        "3 0\n",
        "SALIDA:\n",
        "3\n",
        "\n",
        "CASO DE PRUEBA 2\n",
        "ENTRADA:\n",
        "4\n",
        "2 0\n",
        "2 0\n",
        "2 0\n",
        "10 0\n",
        "SALIDA:\n",
        "2\n",
        "\n",
        "CASO DE PRUEBA 3\n",
        "ENTRADA:\n",
        "5\n",
        "5 2\n",
        "3 1\n",
        "4 0\n",
        "2 3\n",
        "1 4\n",
        "SALIDA:\n",
        "1\n",
        "'''"
      ]
    },
    {
      "cell_type": "markdown",
      "id": "873e8638",
      "metadata": {
        "id": "873e8638"
      },
      "source": [
        "### Problema 6: Buscando la Base Deceptinant 2\n",
        "\n",
        "**¿De qué trata?**\n",
        "\n",
        "Se te da una matriz `N × M` de alturas. Una **subregión plana** es un conjunto de celdas conectadas (adyacentes en 4 direcciones) que **tienen la misma altura**. Debes contar cuántas de estas regiones existen.\n",
        "\n",
        "**Entrada**\n",
        "\n",
        "* Dos enteros `N` y `M`: filas y columnas.\n",
        "* Luego `N` líneas con `M` enteros cada una: las alturas del terreno.\n",
        "\n",
        "**Salida**\n",
        "\n",
        "* Un solo número entero: cantidad de **subregiones planas** (componentes conexas con misma altura).\n",
        "\n",
        "**¿Cómo se resuelve?**\n",
        "\n",
        "Se aplica un algoritmo tipo **Flood Fill (DFS)**:\n",
        "\n",
        "1. Se recorre toda la matriz.\n",
        "2. Cada vez que se encuentra una celda no visitada, se inicia una **exploración recursiva (DFS)** desde allí.\n",
        "3. Se marcan todas las celdas iguales conectadas y se cuenta como una región.\n",
        "\n"
      ]
    },
    {
      "cell_type": "code",
      "source": [
        "# CODIGO DE SOLUCION\n",
        "import sys\n",
        "sys.setrecursionlimit(1 << 25)\n",
        "\n",
        "# Leer dimensiones de la matriz\n",
        "n, m = map(int, input().split())\n",
        "matriz = [list(map(int, input().split())) for _ in range(n)]\n",
        "\n",
        "# Matriz para marcar celdas ya visitadas\n",
        "visto = [[False] * m for _ in range(n)]\n",
        "\n",
        "# Flood fill recursivo\n",
        "def flfl(f, c, alto):\n",
        "  # Casos base\n",
        "  # Si se sale de los limites de la grid\n",
        "    if f < 0 or c < 0 or f >= n or c >= m:\n",
        "        return\n",
        "  # Si la celda no tiene la misma altrua o ya fue visitada\n",
        "    if matriz[f][c] != alto or visto[f][c]:\n",
        "        return\n",
        "\n",
        "    # Marcar como visitado\n",
        "    visto[f][c] = True\n",
        "    # Llamadas recursivas en las 4 direcciones\n",
        "    flfl(f + 1, c, alto)\n",
        "    flfl(f - 1, c, alto)\n",
        "    flfl(f, c + 1, alto)\n",
        "    flfl(f, c - 1, alto)\n",
        "\n",
        "# Contador de regiones planas\n",
        "ans = 0\n",
        "\n",
        "# Recorrer toda la matriz\n",
        "for i in range(n):\n",
        "    for j in range(m):\n",
        "      # Si una celda no esta visitada, es una region nueva\n",
        "        if not visto[i][j]:\n",
        "            ans += 1 # Aumentar respuesta\n",
        "            flfl(i, j, matriz[i][j]) #  Visitar\n",
        "\n",
        "# Imprimir el numero de regiones\n",
        "print(ans)"
      ],
      "metadata": {
        "colab": {
          "base_uri": "https://localhost:8080/"
        },
        "id": "imlwdAEkXHia",
        "outputId": "ddfdebcb-b5f0-40b6-f599-bd115d3e8e83"
      },
      "id": "imlwdAEkXHia",
      "execution_count": null,
      "outputs": [
        {
          "output_type": "stream",
          "name": "stdout",
          "text": [
            "5 5\n",
            "1 1 1 1 1\n",
            "2 2 2 2 2 \n",
            "3 3 3  3 3\n",
            "4 4 4 4 4 \n",
            "5 5 5 5 5 \n",
            "5\n"
          ]
        }
      ]
    },
    {
      "cell_type": "code",
      "execution_count": null,
      "id": "88d080ca",
      "metadata": {
        "id": "88d080ca",
        "colab": {
          "base_uri": "https://localhost:8080/",
          "height": 54
        },
        "outputId": "6a830f74-45b9-422b-c53b-eecc5ca03367"
      },
      "outputs": [
        {
          "output_type": "execute_result",
          "data": {
            "text/plain": [
              "'\\nCASO DE PRUEBA 1\\nENTRADA:\\n3 3\\n1 1 2\\n3 3 2\\n1 3 3\\nSALIDA:\\n4\\n\\nCASO DE PRUEBA 2\\nENTRADA:\\n3 3\\n1 1 2\\n1 1 2\\n1 1 3\\nSALIDA:\\n3\\n'"
            ],
            "application/vnd.google.colaboratory.intrinsic+json": {
              "type": "string"
            }
          },
          "metadata": {},
          "execution_count": 6
        }
      ],
      "source": [
        "'''\n",
        "CASO DE PRUEBA 1\n",
        "ENTRADA:\n",
        "3 3\n",
        "1 1 2\n",
        "3 3 2\n",
        "1 3 3\n",
        "SALIDA:\n",
        "4\n",
        "\n",
        "CASO DE PRUEBA 2\n",
        "ENTRADA:\n",
        "3 3\n",
        "1 1 2\n",
        "1 1 2\n",
        "1 1 3\n",
        "SALIDA:\n",
        "3\n",
        "\n",
        "CASO DE PRUEBA 3\n",
        "ENTRADA:\n",
        "5 5\n",
        "1 1 1 1 1\n",
        "2 2 2 2 2\n",
        "3 3 3 3 3\n",
        "4 4 4 4 4\n",
        "5 5 5 5 5\n",
        "SALIDA:\n",
        "5\n",
        "'''"
      ]
    },
    {
      "cell_type": "markdown",
      "source": [
        "## FASE PRESENCIAL"
      ],
      "metadata": {
        "id": "lqQE2zldhLUp"
      },
      "id": "lqQE2zldhLUp"
    },
    {
      "cell_type": "markdown",
      "source": [
        "### Problema 1: Fotografiando Autovengadores\n",
        "\n",
        "\n",
        "**¿De qué trata?**\n",
        "Se tienen N grupos de Autovengadores, cada uno con cierta cantidad de miembros. Hermione toma Q fotos, cada una cubriendo un rango de grupos (del grupo L al grupo R, inclusive). Debes determinar cuántos héroes aparecen en cada foto.\n",
        "\n",
        "**Entrada**\n",
        "- Un entero N: número de grupos.\n",
        "- Una lista de N enteros: cantidad de héroes en cada grupo.\n",
        "- Un entero Q: cantidad de fotos tomadas.\n",
        "- Q líneas con dos enteros L y R: rango de grupos que aparecen en la foto.\n",
        "\n",
        "Todos los índices comienzan desde 1.\n",
        "\n",
        "**Salida**\n",
        "- Se deben imprimir Q líneas. Cada una indica cuántos Autovengadores aparecen en la foto correspondiente (suma total de los grupos entre L y R).\n",
        "\n",
        "**¿Cómo se resuelve?**\n",
        "- Se usa un arreglo de sumas acumuladas (prefix sums). Esto permite calcular rápidamente la suma de cualquier rango L a R en tiempo constante. Primero se construye el arreglo de sumas y luego se responde cada consulta con la fórmula:\n",
        "```\n",
        "suma[R] - suma[L - 1]\n",
        "````"
      ],
      "metadata": {
        "id": "m6FxH8BYhOPW"
      },
      "id": "m6FxH8BYhOPW"
    },
    {
      "cell_type": "code",
      "source": [
        "# CODIGO DE LA SOLUCION\n",
        "def solve():\n",
        "    # Numero de grupos\n",
        "    n = int(input())\n",
        "    suma = [0]\n",
        "\n",
        "    # Leer cantidades y calcular sumas calculadas\n",
        "    arr = list(map(int, input().split()))\n",
        "\n",
        "    for i in range(n):\n",
        "        suma.append(arr[i] + suma[i])\n",
        "\n",
        "    # Leer numero de consultas y procesarlas\n",
        "    q = int(input())\n",
        "    for _ in range(q):\n",
        "        l, r = map(int, input().split())\n",
        "        # Calcular suma del rango\n",
        "        print(suma[r] - suma[l - 1])\n",
        "\n",
        "t = 1\n",
        "# t = int(input())\n",
        "for _ in range(t):\n",
        "    solve()\n"
      ],
      "metadata": {
        "colab": {
          "base_uri": "https://localhost:8080/"
        },
        "id": "Mb1WnYBLaeua",
        "outputId": "dda76202-8e6f-4e6e-a33b-52f5134e2499"
      },
      "id": "Mb1WnYBLaeua",
      "execution_count": null,
      "outputs": [
        {
          "output_type": "stream",
          "name": "stdout",
          "text": [
            "4\n",
            "0 0 0 0\n",
            "3\n",
            "1 4\n",
            "0\n",
            "2 3\n",
            "0\n",
            "4 4 \n",
            "0\n"
          ]
        }
      ]
    },
    {
      "cell_type": "code",
      "source": [
        "\"\"\"\n",
        "CASO DE PRUEBA 1\n",
        "ENTRADA:\n",
        "5\n",
        "3 2 4 1 5\n",
        "3\n",
        "1 3\n",
        "2 4\n",
        "3 5\n",
        "SALIDA:\n",
        "9\n",
        "7\n",
        "10\n",
        "\n",
        "CASO DE PRUEBA 2:\n",
        "ENTRADA:\n",
        "3\n",
        "10 20 30\n",
        "2\n",
        "1 1\n",
        "1 3\n",
        "SALIDA:\n",
        "10\n",
        "60\n",
        "\"\"\"\n",
        "\n",
        "\"\"\"\n",
        "CASO DE PRUEBA 3:\n",
        "ENTRADA:\n",
        "4\n",
        "0 0 0 0\n",
        "3\n",
        "1 4\n",
        "2 3\n",
        "4 4\n",
        "SALIDA:\n",
        "0\n",
        "0\n",
        "0\n",
        "\"\"\"\n"
      ],
      "metadata": {
        "id": "u2vNOw85alk_"
      },
      "id": "u2vNOw85alk_",
      "execution_count": null,
      "outputs": []
    },
    {
      "cell_type": "markdown",
      "source": [
        "### Problema 2: Autovengadores Vs Darthinho: Round I\n",
        "\n",
        "**¿De qué trata?**\n",
        "Darthinho puede atacar en ciertos segundos específicos que son factores primos de un número asociado a cada ataque. Se quiere saber, para todos los ataques, en qué segundos distintos (desde el segundo 1 en adelante) puede ocurrir un ataque.\n",
        "\n",
        "**Entrada**\n",
        "- Un entero N: número de ataques.\n",
        "- Una lista de N enteros: los valores X₁, X₂, ..., Xₙ asociados a cada ataque.\n",
        "\n",
        "**Salida**\n",
        "- Una sola línea con los segundos diferentes en los que puede haber ataques (factores primos de los valores), incluyendo el 1. Los valores deben imprimirse ordenados y sin repetir.\n",
        "\n",
        "**Cómo se resuelve?**\n",
        "Para cada número Xᵢ, se obtienen sus factores primos usando prueba de divisores (división desde 2 hasta √X). Todos los factores se almacenan en un `set` para evitar duplicados. Se incluye también el número 1. Al final, se ordenan e imprimen.\n",
        "\n"
      ],
      "metadata": {
        "id": "x7VEqFdrhTpE"
      },
      "id": "x7VEqFdrhTpE"
    },
    {
      "cell_type": "code",
      "source": [
        "# CODIGO DE LA SOLUCION\n",
        "n = int(input())\n",
        "numbers = list(map(int, input().split()))\n",
        "\n",
        "# Set de primos, agregar 1 por defecto\n",
        "primes = {1}\n",
        "for x in numbers:\n",
        "    i = 2\n",
        "    # Factorizar el numero\n",
        "    while i * i <= x:\n",
        "        if x % i == 0:\n",
        "            primes.add(i)\n",
        "        # Eliminar todos los factores i\n",
        "        while x % i == 0:\n",
        "            x //= i\n",
        "        i += 1\n",
        "    if x != 1: # Si queda un factor primo, agregarlo\n",
        "        primes.add(x)\n",
        "\n",
        "# Mostrar primos ordenados\n",
        "print(*sorted(primes))"
      ],
      "metadata": {
        "colab": {
          "base_uri": "https://localhost:8080/"
        },
        "id": "IQFj0FG9dpQX",
        "outputId": "53b1e258-878a-4223-d443-533b23b59dc5"
      },
      "id": "IQFj0FG9dpQX",
      "execution_count": null,
      "outputs": [
        {
          "output_type": "stream",
          "name": "stdout",
          "text": [
            "3\n",
            "6 15 10\n",
            "1 2 3 5\n"
          ]
        }
      ]
    },
    {
      "cell_type": "code",
      "source": [
        "\"\"\"\n",
        "CASO DE PRUEBA 1\n",
        "ENTRADA:\n",
        "3\n",
        "6 15 10\n",
        "SALIDA:\n",
        "1 2 3 5\n",
        "\n",
        "CASO 2:\n",
        "ENTRADA:\n",
        "4\n",
        "7 7 7 7\n",
        "SALIDA:\n",
        "1 7\n",
        "\n",
        "CASO 3:\n",
        "ENTRADA:\n",
        "5\n",
        "1 2 3 4 5\n",
        "SALIDA:\n",
        "1 2 3 5\n",
        "\"\"\""
      ],
      "metadata": {
        "id": "DQNDgsD7dtAG"
      },
      "id": "DQNDgsD7dtAG",
      "execution_count": null,
      "outputs": []
    },
    {
      "cell_type": "markdown",
      "source": [
        "### Problema 3: Entrando al Cuarto de Mordor\n",
        "\n",
        "**¿De qué trata?**\n",
        "Sir Colocado II debe atravesar una sala rectangular llena de robots que se mueven en línea recta por varios turnos. Él puede esperar algunos turnos antes de comenzar su movimiento. El objetivo es encontrar cuántos turnos puede esperar como máximo sin ser detectado por ningún robot, y aún así lograr llegar al destino.\n",
        "\n",
        "**Entrada**\n",
        "- Tres enteros: N (filas), M (columnas), R (cantidad de robots).\n",
        "- R líneas con 4 enteros cada una: X, Y (posición del robot), D (dirección: 0=arriba, 1=abajo, 2=izquierda, 3=derecha), T (turnos que se moverá).\n",
        "\n",
        "**Salida**\n",
        "- `Infinito` si puede esperar cualquier cantidad de tiempo.\n",
        "- `-1` si no puede llegar sin ser detectado.\n",
        "- O: el número máximo de turnos que puede esperar antes de moverse y aún así llegar sin ser detectado.\n",
        "\n",
        "**¿Cómo se resuelve?**\n",
        "El problema se divide en tres fases:\n",
        "1. Simulación del movimiento de los robots, para anotar en qué turno cada celda será ocupada.\n",
        "2. Búsqueda binaria sobre el número de turnos posibles de espera.\n",
        "3. Por cada intento de espera, se aplica una búsqueda BFS para determinar si existe un camino seguro desde el inicio hasta el final sin pisar casillas ocupadas antes o durante el paso.\n"
      ],
      "metadata": {
        "id": "HXQB9964hfcb"
      },
      "id": "HXQB9964hfcb"
    },
    {
      "cell_type": "code",
      "source": [
        "# CODIGO DE LA SOLUCION\n",
        "\n",
        "from collections import deque\n",
        "\n",
        "n, m, r = map(int, input().split())\n",
        "# Direcciones: arriba, abajo, izquierda, derecha\n",
        "coord = [(0,1), (1,0), (0,-1), (-1,0)]\n",
        "\n",
        "class Robot:\n",
        "    def __init__(self, x, y, d, t):\n",
        "        self.x = x\n",
        "        self.y = y\n",
        "        self.d = d # Direccion\n",
        "        self.t = t # Turnos restantes\n",
        "\n",
        "robots = []\n",
        "for _ in range(r):\n",
        "    x, y, d, t = map(int, input().split())\n",
        "    # Agregar el robot a la lista de robots\n",
        "    robots.append(Robot(x, y, d, t))\n",
        "\n",
        "# Matriz de tiempos ocupados\n",
        "v = [[350005 for _ in range(n+1)] for _ in range(m+1)]\n",
        "\n",
        "# Simulacion de robots\n",
        "time = 0\n",
        "while True:\n",
        "    ban = True\n",
        "    for rob in robots:\n",
        "        if rob.t == 0:\n",
        "          # Si no le quedan turnos, continuar\n",
        "            continue\n",
        "        # Si el tiempo ocupado es menor que el tiempo, no tiene turnos disponibles\n",
        "        if v[rob.y][rob.x] < time:\n",
        "            rob.t = 0\n",
        "            continue\n",
        "        # El tiempo ocupado se vuelve el tiempo\n",
        "        v[rob.y][rob.x] = time\n",
        "        # Quitar un turno disponible\n",
        "        rob.t -= 1\n",
        "        # Mover el robot\n",
        "        rob.y += coord[rob.d][0]\n",
        "        rob.x += coord[rob.d][1]\n",
        "        # Revisar limites, si se pasa, ajustar turnos restantes a 0\n",
        "        if rob.y > m or rob.x > n or rob.y < 1 or rob.x < 1:\n",
        "            rob.t = 0\n",
        "        if rob.t != 0:\n",
        "            ban = False\n",
        "    if ban:\n",
        "        break\n",
        "    # Si funciona, agregar uno a tiempos\n",
        "    time += 1\n",
        "\n",
        "# BFS para saber si es posible\n",
        "def posible(mid):\n",
        "    # Arreglo de visitados\n",
        "    vis = [[0 for _ in range(n+1)] for _ in range(m+1)]\n",
        "    # Si el tiempo es menor en la primera posicion, no se puede\n",
        "    if v[1][1] < mid:\n",
        "        return False\n",
        "\n",
        "    # BFS\n",
        "    q = deque()\n",
        "    q.append(((1, 1), mid))\n",
        "    vis[1][1] = 1\n",
        "    while q:\n",
        "        (x, y), t = q.popleft()\n",
        "        if x == n and y == m:\n",
        "            # Si llego al final, regresar True\n",
        "            return True\n",
        "        for dx, dy in coord:\n",
        "            # Nueva coordenada en x y y\n",
        "            nx = x + dx\n",
        "            ny = y + dy\n",
        "            # Si las coordenadas son validas y no estan visitadas\n",
        "            if 1 <= nx <= n and 1 <= ny <= m and not vis[ny][nx] and v[ny][nx] >= t + 1:\n",
        "                vis[ny][nx] = 1 # Marcar como visitado\n",
        "                q.append(((nx, ny), t + 1)) # Agregar a la cola del BFS\n",
        "    return False\n",
        "\n",
        "# Busqueda binaria en la solucion\n",
        "\n",
        "#Limites del problema\n",
        "l = 0\n",
        "ri = 500\n",
        "while l < ri:\n",
        "    mid = l + (ri - l + 1) // 2\n",
        "    if posible(mid):\n",
        "        l = mid\n",
        "    else:\n",
        "        ri = mid - 1\n",
        "\n",
        "# Imprimir respuesta segun sea el caso\n",
        "if l == 0:\n",
        "    # Si no se puede\n",
        "    if not posible(0):\n",
        "        print(-1)\n",
        "    else:\n",
        "      print(l)\n",
        "elif l == 500:\n",
        "    # Si es infinito\n",
        "    if posible(505):\n",
        "        print(\"Infinito\")\n",
        "    else:\n",
        "      print(l)\n",
        "else:\n",
        "  print(l)"
      ],
      "metadata": {
        "colab": {
          "base_uri": "https://localhost:8080/"
        },
        "id": "1W1M6sdhgijZ",
        "outputId": "cf314bb7-1f4f-477d-de74-b5ced2ae49ad"
      },
      "id": "1W1M6sdhgijZ",
      "execution_count": null,
      "outputs": [
        {
          "output_type": "stream",
          "name": "stdout",
          "text": [
            "5 4 1\n",
            "2 4 3 5\n",
            "2\n"
          ]
        }
      ]
    },
    {
      "cell_type": "code",
      "source": [
        "'''\n",
        "CASO DE PRUEBA 1\n",
        "ENTRADA:\n",
        "4 4 2\n",
        "2 2 0 3\n",
        "4 3 3 2\n",
        "SALIDA:\n",
        "Infinito\n",
        "\n",
        "CASO DE PRUEBA 2\n",
        "ENTRADA:\n",
        "4 4 2\n",
        "2 2 0 3\n",
        "4 3 1 2\n",
        "SALIDA:\n",
        "-1\n",
        "\n",
        "CASO DE PRUEBA 3\n",
        "ENTRADA:\n",
        "5 4 1\n",
        "2 4 3 5\n",
        "SALIDA:\n",
        "2\n",
        "'''"
      ],
      "metadata": {
        "id": "BGs8JR_Ggo52"
      },
      "id": "BGs8JR_Ggo52",
      "execution_count": null,
      "outputs": []
    },
    {
      "cell_type": "markdown",
      "source": [
        "### Problema 4: Decodificando el Lenguaje de Og-Die\n",
        "\n",
        "**¿De qué trata?**\n",
        "Dado un conjunto de palabras en un idioma desconocido, se quiere deducir el orden de las letras (alfabeto) de ese idioma. Las palabras están dadas en orden lexicográfico correcto. Se debe deducir si existe un único orden válido, múltiples posibles o si es imposible determinarlo.\n",
        "\n",
        "**Entrada**\n",
        "- Un número entero n: cantidad de palabras.\n",
        "- Luego n líneas, cada una con una palabra (sin espacios).\n",
        "\n",
        "**Salida**\n",
        "- Si hay un solo orden posible, se imprime el orden de las letras.\n",
        "- Si hay múltiples órdenes válidos, imprime `MULTIPLE`.\n",
        "- Si no hay forma de definir un orden válido, imprime `IMPOSIBLE`.\n",
        "\n",
        "**Cómo se resuelve?**\n",
        "1. Se construye un grafo donde cada letra es un nodo.\n",
        "2. Se comparan palabras adyacentes para detectar relaciones de precedencia entre letras (primera diferencia).\n",
        "3. Se agregan esas relaciones como aristas dirigidas.\n",
        "4. Se realiza un ordenamiento topológico (Kahn) para obtener el orden de letras:\n",
        "   - Si hay más de un nodo con in-degree cero en algún momento -- `MULTIPLE`\n",
        "   - Si no se pueden visitar todos los nodos -- `IMPOSIBLE`\n",
        "   - Si se puede visitar todos, imprimir el orden\n"
      ],
      "metadata": {
        "id": "kUYTVLMYhqUQ"
      },
      "id": "kUYTVLMYhqUQ"
    },
    {
      "cell_type": "code",
      "source": [
        "# CODIGO DE LA SOLUCION\n",
        "from collections import deque, defaultdict\n",
        "\n",
        "n = int(input())\n",
        "words = [input().strip() for _ in range(n)]\n",
        "\n",
        "# Crear un set con cada caracter de las palabras\n",
        "alphabet = set(c for word in words for c in word)\n",
        "\n",
        "# Lista de aristas\n",
        "edges = set()\n",
        "\n",
        "for i in range(1, n):\n",
        "    # Tomar la palabra actual y la anterior\n",
        "    w1, w2 = words[i - 1], words[i]\n",
        "    # Indice j de posicion\n",
        "    j = 0\n",
        "    # Mientras sean iguales, aumentar j\n",
        "    while j < len(w1) and j < len(w2) and w1[j] == w2[j]:\n",
        "        j += 1\n",
        "    # Agregar arista\n",
        "    if j < len(w1) and j < len(w2):\n",
        "        edges.add((w1[j], w2[j]))\n",
        "    elif len(w1) > len(w2):\n",
        "        # Caso imposible, que el primero tengo mas que el segundo\n",
        "        print(\"IMPOSIBLE\")\n",
        "        exit()\n",
        "\n",
        "# Crear lista de in degree con 0 por defecto\n",
        "indegree = {c: 0 for c in alphabet}\n",
        "\n",
        "# Crear grafo y agregar nodos\n",
        "graph = defaultdict(list)\n",
        "for u, v in edges:\n",
        "    indegree[v] += 1\n",
        "    graph[u].append(v)\n",
        "\n",
        "# Aplicar ordenamiento topologico\n",
        "queue = deque([c for c in alphabet if indegree[c] == 0])\n",
        "order = []\n",
        "multiple = False\n",
        "\n",
        "while queue:\n",
        "    # Si hay varias opciones, hay multiples soluciones\n",
        "    if len(queue) > 1:\n",
        "        multiple = True\n",
        "    # BFS\n",
        "    u = queue.popleft()\n",
        "    order.append(u)\n",
        "    for v in graph[u]:\n",
        "        # Reducir 1 a indegree\n",
        "        indegree[v] -= 1\n",
        "        if indegree[v] == 0:\n",
        "          # Agregar nodos con indegree 0\n",
        "            queue.append(v)\n",
        "\n",
        "# Si el orden y el alfabeto son diferentes, es imposible\n",
        "if len(order) != len(alphabet):\n",
        "    print(\"IMPOSIBLE\")\n",
        "elif multiple:\n",
        "  # Si es multiple\n",
        "    print(\"MULTIPLE\")\n",
        "else:\n",
        "  # Mostrar el orden obtenido\n",
        "    print(''.join(order))\n"
      ],
      "metadata": {
        "colab": {
          "base_uri": "https://localhost:8080/"
        },
        "id": "Zau4eIBDmzSu",
        "outputId": "d8900f38-cd75-40d3-9a34-65c5a7f7f695"
      },
      "id": "Zau4eIBDmzSu",
      "execution_count": null,
      "outputs": [
        {
          "output_type": "stream",
          "name": "stdout",
          "text": [
            "4\n",
            "xyz\n",
            "yzx\n",
            "zxy\n",
            "xzx\n",
            "IMPOSIBLE\n"
          ]
        }
      ]
    },
    {
      "cell_type": "code",
      "source": [
        "'''\n",
        "CASO DE PRUEBA 1\n",
        "ENTRADA:\n",
        "4\n",
        "eab\n",
        "eda\n",
        "eee\n",
        "badea\n",
        "SALIDA:\n",
        "adeb\n",
        "\n",
        "CASO DE PRUEBA 2\n",
        "ENTRADA:\n",
        "3\n",
        "abc\n",
        "abe\n",
        "ace\n",
        "SALIDA:\n",
        "MULTIPLE\n",
        "\n",
        "CASO DE PRUEBA 3\n",
        "ENTRADA:\n",
        "4\n",
        "xyz\n",
        "yzx\n",
        "zxy\n",
        "xzx\n",
        "SALIDA:\n",
        "IMPOSIBLE\n",
        "'''"
      ],
      "metadata": {
        "id": "GFDi3UODm7Xb"
      },
      "id": "GFDi3UODm7Xb",
      "execution_count": null,
      "outputs": []
    },
    {
      "cell_type": "markdown",
      "source": [
        "### Problema 5: Autovengadores: Programación del Infinito (Vol. 2)\n",
        "\n",
        "**¿De qué trata?**\n",
        "Dorothea quiere moverse entre posiciones conectadas para llegar desde la posición 1 hasta la N. Cada conexión permite un salto de exactamente un segundo. El objetivo es determinar el tiempo mínimo necesario o si no es posible.\n",
        "\n",
        "**Entrada**\n",
        "- Dos enteros N y M: número de posiciones (1 a N) y número de conexiones.\n",
        "- M líneas con dos enteros U y V: hay un salto entre U y V.\n",
        "\n",
        "**Salida**\n",
        "- Un solo número entero: mínimo número de segundos para llegar desde la posición 1 a la N, o `-1` si no es posible.\n",
        "\n",
        "**¿Cómo se resuelve?**\n",
        "Se trata de encontrar la distancia más corta desde el nodo 1 al nodo N en un grafo no dirigido donde cada arista pesa 1. Esto se resuelve eficientemente usando BFS (Breadth-First Search), marcando los tiempos en un arreglo `seen`.\n"
      ],
      "metadata": {
        "id": "9h4eW8zehrfu"
      },
      "id": "9h4eW8zehrfu"
    },
    {
      "cell_type": "code",
      "source": [
        "# CODIGO DE LA SOLUCION\n",
        "from collections import deque\n",
        "\n",
        "n, m = map(int, input().split())\n",
        "# Construir grafo y arreglo de distancias\n",
        "graph = [[] for _ in range(n + 1)]\n",
        "seen = [-1] * (n + 1)\n",
        "\n",
        "# Agregar conexiones\n",
        "for _ in range(m):\n",
        "    u, v = map(int, input().split())\n",
        "    graph[u].append(v)\n",
        "    graph[v].append(u)\n",
        "\n",
        "q = deque()\n",
        "q.append(1)\n",
        "seen[1] = 0\n",
        "\n",
        "# Hacer BFS para buscar distancias\n",
        "while q:\n",
        "    u = q.popleft()\n",
        "    for v in graph[u]:\n",
        "        if seen[v] == -1:\n",
        "            seen[v] = seen[u] + 1 #Aumentar distancia\n",
        "            q.append(v)\n",
        "\n",
        "# Imprimir la distancia al ultimo\n",
        "print(seen[n])\n"
      ],
      "metadata": {
        "colab": {
          "base_uri": "https://localhost:8080/"
        },
        "id": "b-hys3cFogTt",
        "outputId": "384afea0-f6fa-4513-e908-c0df8ed7f9ec"
      },
      "id": "b-hys3cFogTt",
      "execution_count": null,
      "outputs": [
        {
          "output_type": "stream",
          "name": "stdout",
          "text": [
            "3 3\n",
            "1 2\n",
            "2 3\n",
            "1 3\n",
            "1\n"
          ]
        }
      ]
    },
    {
      "cell_type": "code",
      "source": [
        "\"\"\"\n",
        "CASO DE PRUEBA 1\n",
        "ENTRADA:\n",
        "5 6\n",
        "1 2\n",
        "1 3\n",
        "2 3\n",
        "2 4\n",
        "3 5\n",
        "4 5\n",
        "SALIDA:\n",
        "2\n",
        "\n",
        "CASO DE PRUEBA 2\n",
        "ENTRADA:\n",
        "5 4\n",
        "1 2\n",
        "1 3\n",
        "2 3\n",
        "2 4\n",
        "SALIDA:\n",
        "-1\n",
        "\n",
        "CASO 3:\n",
        "ENTRADA:\n",
        "3 3\n",
        "1 2\n",
        "2 3\n",
        "1 3\n",
        "SALIDA:\n",
        "1\n",
        "\"\"\"\n"
      ],
      "metadata": {
        "id": "RbuGHhe8o7UA"
      },
      "id": "RbuGHhe8o7UA",
      "execution_count": null,
      "outputs": []
    },
    {
      "cell_type": "markdown",
      "source": [
        "### Problema 6: Autovengadores: Fin de la Compilación (Vol. 2)\n",
        "\n",
        "**¿De qué trata?**\n",
        "Odlanor tiene la oportunidad de lanzar un poderoso ataque final para derrotar a Issem Lenoil, pero solo puede activar uno de los N ataques disponibles de los Autovengadores. Cada uno tiene un poder (daño) y un costo de energía, y el total de energía disponible es limitado. El objetivo es escoger un subconjunto de ataques que maximicen el daño total sin superar el límite de energía.\n",
        "\n",
        "**Entrada**\n",
        "- Dos enteros: N (número de Autovengadores disponibles), X (energía total disponible).\n",
        "- Luego N líneas, cada una con dos enteros: Pᵢ (poder del ataque) y Eᵢ (costo de energía del ataque del Autovengador i).\n",
        "\n",
        "**Salida**\n",
        "- Un solo número entero: el mayor daño posible que se puede infligir sin sobrepasar el límite de energía.\n",
        "\n",
        "**¿Cómo se resuelve?**\n",
        "Se utiliza el enfoque clásico de **programación dinámica tipo mochila (0/1 Knapsack)**. Se construye una matriz `dp[i][j]` donde se guarda el daño máximo al considerar los primeros `i` Autovengadores y un límite de energía `j`.\n",
        "\n",
        "La transición es:\n",
        "- `dp[i][j] = max(dp[i-1][j], dp[i-1][j - Eᵢ] + Pᵢ)` si `j >= Eᵢ`\n",
        "\n",
        "El resultado final está en `dp[N][X]`."
      ],
      "metadata": {
        "id": "qjjRxEuihshx"
      },
      "id": "qjjRxEuihshx"
    },
    {
      "cell_type": "code",
      "source": [
        "# CODIGO DE LA SOLUCION\n",
        "n, m = map(int, input().split())\n",
        "# Recibir valores\n",
        "items = [tuple(map(int, input().split()))for _ in range(n)]\n",
        "\n",
        "# Arreglo de programacion dinamica, guardar valores\n",
        "dp = [[0] * (m + 1) for _ in range(n + 1)]\n",
        "\n",
        "# Recorrer items\n",
        "for i in range(1, n + 1):\n",
        "    # Poder, energia del item\n",
        "    p, e = items[i - 1]\n",
        "    for j in range(m + 1):\n",
        "        dp[i][j] = dp[i - 1][j] # Sin tomar el item\n",
        "        if j >= e:\n",
        "            # Actualizar si se toma el item\n",
        "            dp[i][j] = max(dp[i][j], dp[i - 1][j - e] + p)\n",
        "\n",
        "# Mostrar respuesta\n",
        "print(dp[n][m])\n"
      ],
      "metadata": {
        "colab": {
          "base_uri": "https://localhost:8080/"
        },
        "id": "kMA4oDI4pyyi",
        "outputId": "61973663-7218-4c19-fa7a-1408fcfee0f3"
      },
      "id": "kMA4oDI4pyyi",
      "execution_count": null,
      "outputs": [
        {
          "output_type": "stream",
          "name": "stdout",
          "text": [
            "2 10\n",
            "20 5\n",
            "30 6\n",
            "30\n"
          ]
        }
      ]
    },
    {
      "cell_type": "code",
      "source": [
        "\"\"\"\n",
        "CASO DE PRUEBA 1\n",
        "ENTRADA:\n",
        "3 10\n",
        "10 5\n",
        "7 4\n",
        "5 6\n",
        "SALIDA:\n",
        "17\n",
        "\n",
        "CASO 2:\n",
        "ENTRADA:\n",
        "4 5\n",
        "1 2\n",
        "3 2\n",
        "4 3\n",
        "5 1\n",
        "SALIDA:\n",
        "9\n",
        "\n",
        "CASO 3:\n",
        "ENTRADA:\n",
        "2 10\n",
        "20 5\n",
        "30 6\n",
        "SALIDA:\n",
        "30\n",
        "\"\"\"\n"
      ],
      "metadata": {
        "colab": {
          "base_uri": "https://localhost:8080/",
          "height": 36
        },
        "id": "wyVWaSQFqGwK",
        "outputId": "3c138767-ecc0-4d42-fb5d-f6d8709aa1b2"
      },
      "id": "wyVWaSQFqGwK",
      "execution_count": null,
      "outputs": [
        {
          "output_type": "execute_result",
          "data": {
            "text/plain": [
              "'\\nCASO DE PRUEBA 1\\nENTRADA:\\n3 10\\n10 5\\n7 4\\n5 6\\nSALIDA:\\n17\\n\\n'"
            ],
            "application/vnd.google.colaboratory.intrinsic+json": {
              "type": "string"
            }
          },
          "metadata": {},
          "execution_count": 23
        }
      ]
    }
  ],
  "metadata": {
    "kernelspec": {
      "display_name": "Python 3",
      "language": "python",
      "name": "python3"
    },
    "language_info": {
      "name": "python",
      "version": "3.12.7"
    },
    "colab": {
      "provenance": [],
      "collapsed_sections": [
        "fff644f4"
      ],
      "include_colab_link": true
    }
  },
  "nbformat": 4,
  "nbformat_minor": 5
}